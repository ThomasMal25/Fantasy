{
 "cells": [
  {
   "cell_type": "code",
   "execution_count": 1,
   "metadata": {},
   "outputs": [],
   "source": [
    "import pandas as pd \n",
    "import seaborn as sns "
   ]
  },
  {
   "cell_type": "code",
   "execution_count": 2,
   "metadata": {},
   "outputs": [],
   "source": [
    "df = pd.read_csv('/Users/tommalovic/Desktop/Fantasy/FPL_dataset.csv',encoding='latin-1')"
   ]
  },
  {
   "cell_type": "code",
   "execution_count": 3,
   "metadata": {},
   "outputs": [
    {
     "data": {
      "text/html": [
       "<div>\n",
       "<style scoped>\n",
       "    .dataframe tbody tr th:only-of-type {\n",
       "        vertical-align: middle;\n",
       "    }\n",
       "\n",
       "    .dataframe tbody tr th {\n",
       "        vertical-align: top;\n",
       "    }\n",
       "\n",
       "    .dataframe thead th {\n",
       "        text-align: right;\n",
       "    }\n",
       "</style>\n",
       "<table border=\"1\" class=\"dataframe\">\n",
       "  <thead>\n",
       "    <tr style=\"text-align: right;\">\n",
       "      <th></th>\n",
       "      <th>Player</th>\n",
       "      <th>Team</th>\n",
       "      <th>Points</th>\n",
       "      <th>Cost</th>\n",
       "      <th>Position</th>\n",
       "      <th>Goals_Scored</th>\n",
       "      <th>Assists</th>\n",
       "      <th>Saves</th>\n",
       "      <th>Yellow_Card</th>\n",
       "      <th>Red_Card</th>\n",
       "      <th>Min_Played</th>\n",
       "      <th>TSB</th>\n",
       "      <th>CS</th>\n",
       "      <th>Shots_On_Target</th>\n",
       "      <th>Goals_Conceded</th>\n",
       "      <th>BPS</th>\n",
       "    </tr>\n",
       "  </thead>\n",
       "  <tbody>\n",
       "    <tr>\n",
       "      <th>0</th>\n",
       "      <td>Alisson</td>\n",
       "      <td>Liverpool</td>\n",
       "      <td>89</td>\n",
       "      <td>6.2</td>\n",
       "      <td>GK</td>\n",
       "      <td>0</td>\n",
       "      <td>1</td>\n",
       "      <td>45.0</td>\n",
       "      <td>0</td>\n",
       "      <td>1</td>\n",
       "      <td>1733</td>\n",
       "      <td>9.3</td>\n",
       "      <td>10</td>\n",
       "      <td>0</td>\n",
       "      <td>12</td>\n",
       "      <td>408</td>\n",
       "    </tr>\n",
       "    <tr>\n",
       "      <th>1</th>\n",
       "      <td>Ederson</td>\n",
       "      <td>Man City</td>\n",
       "      <td>82</td>\n",
       "      <td>6.0</td>\n",
       "      <td>GK</td>\n",
       "      <td>0</td>\n",
       "      <td>0</td>\n",
       "      <td>50.0</td>\n",
       "      <td>3</td>\n",
       "      <td>1</td>\n",
       "      <td>2171</td>\n",
       "      <td>11.7</td>\n",
       "      <td>9</td>\n",
       "      <td>0</td>\n",
       "      <td>27</td>\n",
       "      <td>406</td>\n",
       "    </tr>\n",
       "    <tr>\n",
       "      <th>2</th>\n",
       "      <td>Kepa</td>\n",
       "      <td>Chelsea</td>\n",
       "      <td>69</td>\n",
       "      <td>5.4</td>\n",
       "      <td>GK</td>\n",
       "      <td>0</td>\n",
       "      <td>0</td>\n",
       "      <td>42.0</td>\n",
       "      <td>0</td>\n",
       "      <td>0</td>\n",
       "      <td>2250</td>\n",
       "      <td>4.3</td>\n",
       "      <td>6</td>\n",
       "      <td>0</td>\n",
       "      <td>32</td>\n",
       "      <td>387</td>\n",
       "    </tr>\n",
       "    <tr>\n",
       "      <th>3</th>\n",
       "      <td>Schmeichel</td>\n",
       "      <td>Leicester</td>\n",
       "      <td>119</td>\n",
       "      <td>5.4</td>\n",
       "      <td>GK</td>\n",
       "      <td>0</td>\n",
       "      <td>0</td>\n",
       "      <td>81.0</td>\n",
       "      <td>2</td>\n",
       "      <td>0</td>\n",
       "      <td>2610</td>\n",
       "      <td>14.3</td>\n",
       "      <td>10</td>\n",
       "      <td>0</td>\n",
       "      <td>28</td>\n",
       "      <td>552</td>\n",
       "    </tr>\n",
       "    <tr>\n",
       "      <th>4</th>\n",
       "      <td>de Gea</td>\n",
       "      <td>Man Utd</td>\n",
       "      <td>103</td>\n",
       "      <td>5.3</td>\n",
       "      <td>GK</td>\n",
       "      <td>0</td>\n",
       "      <td>0</td>\n",
       "      <td>75.0</td>\n",
       "      <td>2</td>\n",
       "      <td>0</td>\n",
       "      <td>2610</td>\n",
       "      <td>11.4</td>\n",
       "      <td>8</td>\n",
       "      <td>0</td>\n",
       "      <td>30</td>\n",
       "      <td>464</td>\n",
       "    </tr>\n",
       "  </tbody>\n",
       "</table>\n",
       "</div>"
      ],
      "text/plain": [
       "       Player       Team  Points  Cost Position  Goals_Scored  Assists  Saves  \\\n",
       "0     Alisson  Liverpool      89   6.2       GK             0        1   45.0   \n",
       "1     Ederson   Man City      82   6.0       GK             0        0   50.0   \n",
       "2        Kepa    Chelsea      69   5.4       GK             0        0   42.0   \n",
       "3  Schmeichel  Leicester     119   5.4       GK             0        0   81.0   \n",
       "4      de Gea    Man Utd     103   5.3       GK             0        0   75.0   \n",
       "\n",
       "   Yellow_Card  Red_Card  Min_Played   TSB  CS  Shots_On_Target  \\\n",
       "0            0         1        1733   9.3  10                0   \n",
       "1            3         1        2171  11.7   9                0   \n",
       "2            0         0        2250   4.3   6                0   \n",
       "3            2         0        2610  14.3  10                0   \n",
       "4            2         0        2610  11.4   8                0   \n",
       "\n",
       "   Goals_Conceded  BPS  \n",
       "0              12  408  \n",
       "1              27  406  \n",
       "2              32  387  \n",
       "3              28  552  \n",
       "4              30  464  "
      ]
     },
     "execution_count": 3,
     "metadata": {},
     "output_type": "execute_result"
    }
   ],
   "source": [
    "df.head()"
   ]
  },
  {
   "cell_type": "code",
   "execution_count": 34,
   "metadata": {},
   "outputs": [],
   "source": [
    "df['Points_per_cost'] = df['Points']/ df['Cost']"
   ]
  },
  {
   "cell_type": "code",
   "execution_count": 35,
   "metadata": {},
   "outputs": [],
   "source": [
    "sort_points = df.sort_values(by='Points',ascending=False).head(50)"
   ]
  },
  {
   "cell_type": "code",
   "execution_count": 36,
   "metadata": {},
   "outputs": [],
   "source": [
    "top_50= sort_points.head(50)"
   ]
  },
  {
   "cell_type": "code",
   "execution_count": 37,
   "metadata": {},
   "outputs": [],
   "source": [
    "defenders = top_50[top_50['Position'] == 'DEF']"
   ]
  },
  {
   "cell_type": "code",
   "execution_count": 42,
   "metadata": {},
   "outputs": [],
   "source": [
    "def_plotting = defenders[['Player','Points','Cost','Points_per_cost']].set_index('Player')"
   ]
  },
  {
   "cell_type": "code",
   "execution_count": 43,
   "metadata": {},
   "outputs": [
    {
     "data": {
      "text/html": [
       "<div>\n",
       "<style scoped>\n",
       "    .dataframe tbody tr th:only-of-type {\n",
       "        vertical-align: middle;\n",
       "    }\n",
       "\n",
       "    .dataframe tbody tr th {\n",
       "        vertical-align: top;\n",
       "    }\n",
       "\n",
       "    .dataframe thead th {\n",
       "        text-align: right;\n",
       "    }\n",
       "</style>\n",
       "<table border=\"1\" class=\"dataframe\">\n",
       "  <thead>\n",
       "    <tr style=\"text-align: right;\">\n",
       "      <th></th>\n",
       "      <th>Points</th>\n",
       "      <th>Cost</th>\n",
       "      <th>Points_per_cost</th>\n",
       "    </tr>\n",
       "    <tr>\n",
       "      <th>Player</th>\n",
       "      <th></th>\n",
       "      <th></th>\n",
       "      <th></th>\n",
       "    </tr>\n",
       "  </thead>\n",
       "  <tbody>\n",
       "    <tr>\n",
       "      <th>Alexander-Arnold</th>\n",
       "      <td>166</td>\n",
       "      <td>7.8</td>\n",
       "      <td>21.282051</td>\n",
       "    </tr>\n",
       "    <tr>\n",
       "      <th>van Dijk</th>\n",
       "      <td>141</td>\n",
       "      <td>6.5</td>\n",
       "      <td>21.692308</td>\n",
       "    </tr>\n",
       "    <tr>\n",
       "      <th>Robertson</th>\n",
       "      <td>137</td>\n",
       "      <td>7.0</td>\n",
       "      <td>19.571429</td>\n",
       "    </tr>\n",
       "    <tr>\n",
       "      <th>Lundstram</th>\n",
       "      <td>128</td>\n",
       "      <td>4.9</td>\n",
       "      <td>26.122449</td>\n",
       "    </tr>\n",
       "    <tr>\n",
       "      <th>Pereira</th>\n",
       "      <td>123</td>\n",
       "      <td>6.3</td>\n",
       "      <td>19.523810</td>\n",
       "    </tr>\n",
       "    <tr>\n",
       "      <th>Doherty</th>\n",
       "      <td>117</td>\n",
       "      <td>6.3</td>\n",
       "      <td>18.571429</td>\n",
       "    </tr>\n",
       "    <tr>\n",
       "      <th>Baldock</th>\n",
       "      <td>115</td>\n",
       "      <td>5.1</td>\n",
       "      <td>22.549020</td>\n",
       "    </tr>\n",
       "    <tr>\n",
       "      <th>Stevens</th>\n",
       "      <td>110</td>\n",
       "      <td>5.2</td>\n",
       "      <td>21.153846</td>\n",
       "    </tr>\n",
       "    <tr>\n",
       "      <th>Evans</th>\n",
       "      <td>108</td>\n",
       "      <td>5.3</td>\n",
       "      <td>20.377358</td>\n",
       "    </tr>\n",
       "    <tr>\n",
       "      <th>Soyuncu</th>\n",
       "      <td>103</td>\n",
       "      <td>4.9</td>\n",
       "      <td>21.020408</td>\n",
       "    </tr>\n",
       "    <tr>\n",
       "      <th>Tarkowski</th>\n",
       "      <td>101</td>\n",
       "      <td>5.2</td>\n",
       "      <td>19.423077</td>\n",
       "    </tr>\n",
       "  </tbody>\n",
       "</table>\n",
       "</div>"
      ],
      "text/plain": [
       "                  Points  Cost  Points_per_cost\n",
       "Player                                         \n",
       "Alexander-Arnold     166   7.8        21.282051\n",
       "van Dijk             141   6.5        21.692308\n",
       "Robertson            137   7.0        19.571429\n",
       "Lundstram            128   4.9        26.122449\n",
       "Pereira              123   6.3        19.523810\n",
       "Doherty              117   6.3        18.571429\n",
       "Baldock              115   5.1        22.549020\n",
       "Stevens              110   5.2        21.153846\n",
       "Evans                108   5.3        20.377358\n",
       "Soyuncu              103   4.9        21.020408\n",
       "Tarkowski            101   5.2        19.423077"
      ]
     },
     "execution_count": 43,
     "metadata": {},
     "output_type": "execute_result"
    }
   ],
   "source": [
    "def_plotting"
   ]
  },
  {
   "cell_type": "code",
   "execution_count": 40,
   "metadata": {},
   "outputs": [
    {
     "data": {
      "text/plain": [
       "<Axes: xlabel='Player'>"
      ]
     },
     "execution_count": 40,
     "metadata": {},
     "output_type": "execute_result"
    },
    {
     "data": {
      "image/png": "[encoded data removed]",
      "text/plain": [
       "<Figure size 640x480 with 1 Axes>"
      ]
     },
     "metadata": {},
     "output_type": "display_data"
    }
   ],
   "source": [
    "def_plotting.plot(kind='bar')"
   ]
  },
  {
   "cell_type": "code",
   "execution_count": 41,
   "metadata": {},
   "outputs": [],
   "source": [
    "forwards = top_50[top_50['Position'] == 'FOR']\n"
   ]
  },
  {
   "cell_type": "code",
   "execution_count": 47,
   "metadata": {},
   "outputs": [],
   "source": [
    "for_plotting = forwards[['Player','Points','Goals_Scored','Assists','Points_per_cost']].set_index('Player')"
   ]
  },
  {
   "cell_type": "code",
   "execution_count": null,
   "metadata": {},
   "outputs": [],
   "source": []
  }
 ],
 "metadata": {
  "kernelspec": {
   "display_name": "Python 3",
   "language": "python",
   "name": "python3"
  },
  "language_info": {
   "codemirror_mode": {
    "name": "ipython",
    "version": 3
   },
   "file_extension": ".py",
   "mimetype": "text/x-python",
   "name": "python",
   "nbconvert_exporter": "python",
   "pygments_lexer": "ipython3",
   "version": "3.12.1"
  }
 },
 "nbformat": 4,
 "nbformat_minor": 2
}
